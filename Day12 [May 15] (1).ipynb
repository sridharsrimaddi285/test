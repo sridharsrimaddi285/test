{
 "cells": [
  {
   "cell_type": "markdown",
   "metadata": {},
   "source": [
    "## PROBLEM SOLVING AND PROGRAMMING \n",
    "\n",
    "\n",
    "### DAY No-12\n",
    "### DATE- 15TH MAY, 2019"
   ]
  },
  {
   "cell_type": "markdown",
   "metadata": {},
   "source": [
    "## NOTES\n",
    "\n",
    "### DAY OBJECTIVES\n",
    "\n",
    "1.*Objective 1:importing packages \n",
    "  "
   ]
  },
  {
   "cell_type": "markdown",
   "metadata": {},
   "source": [
    "### Problem 1:\n",
    "\n",
    "#### Problem Statement:  Define a function to validate email addresses based on the following rules.\n",
    "\n",
    "#### CONSTRAINTS:\n",
    "\n",
    "* Email should be in the format username@domain.extension\n",
    "* username must start with an alphabet and can contain lowercase alphabet, digits, hyphen(-) and underscores( _ ).\n",
    "* username must not contain special characters, uppercase letters, whitespaces.\n",
    "* Length of username must be in the range (6, 16)\n",
    "* Domain can only contain lowercase alphabet and digits with length in range (3, 10) . No special characters are allowed\n",
    "* Extension can only contain lower case alphabet and its length must be in the range (2, 4)\n",
    "* First line of input contains total number of email addresses n.  Next n lines contain  n email addresses.\n",
    "\n",
    "* Output must contain contain  n  lines with either 'Valid' or 'Invalid'\n",
    " \n",
    "#### Test cases:\n",
    "\n",
    "#### Sample Input :  6\n",
    "\n",
    "* abc456@gmail.com\n",
    "\n",
    "* 456abc@yahoo.com\n",
    "\n",
    "* abc_456@gitam.ed1\n",
    "\n",
    "* abc-456@abc-d.in\n",
    "\n",
    "* python@python.edu\n",
    "\n",
    "* abc 456@edu.edu\n",
    "\n",
    "#### Sample Output :   Valid\n",
    "\n",
    "* Invalid\n",
    "\n",
    "* Invalid\n",
    "\n",
    "* Invalid\n",
    "\n",
    "* Valid\n",
    "\n",
    "* Invalid\n",
    "\n"
   ]
  },
  {
   "cell_type": "code",
   "execution_count": 1,
   "metadata": {},
   "outputs": [
    {
     "name": "stdout",
     "output_type": "stream",
     "text": [
      "valid\n",
      "None\n",
      "not valid\n",
      "None\n",
      "not valid\n",
      "None\n",
      "not valid\n",
      "None\n",
      "valid\n",
      "None\n",
      "not valid\n",
      "None\n"
     ]
    }
   ],
   "source": [
    "import re\n",
    "def gmail(str1):\n",
    "    pattern='^[a-z][a-z0-9_.-]{4,13}[a-z0-9][@][0-9a-z]{3,9}[.][a-z]{2,3}$'\n",
    "    if(re.match(pattern,str1)):\n",
    "        print(\"valid\")\n",
    "    else:\n",
    "        print(\"not valid\")\n",
    "\n",
    "print(gmail('abc456@gmail.com'))\n",
    "print(gmail('456abc@yahoo.com'))\n",
    "print(gmail('abc_456@gitam.ed1'))\n",
    "print(gmail('abc-456@abc-d.in'))\n",
    "print(gmail('python@python.edu'))\n",
    "print(gmail('abc 456@edu.edu'))"
   ]
  },
  {
   "cell_type": "code",
   "execution_count": null,
   "metadata": {},
   "outputs": [],
   "source": []
  }
 ],
 "metadata": {
  "kernelspec": {
   "display_name": "Python 3",
   "language": "python",
   "name": "python3"
  },
  "language_info": {
   "codemirror_mode": {
    "name": "ipython",
    "version": 3
   },
   "file_extension": ".py",
   "mimetype": "text/x-python",
   "name": "python",
   "nbconvert_exporter": "python",
   "pygments_lexer": "ipython3",
   "version": "3.7.3"
  }
 },
 "nbformat": 4,
 "nbformat_minor": 2
}
